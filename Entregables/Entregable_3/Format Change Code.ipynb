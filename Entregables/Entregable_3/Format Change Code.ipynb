{
  "nbformat": 4,
  "nbformat_minor": 0,
  "metadata": {
    "colab": {
      "provenance": []
    },
    "kernelspec": {
      "name": "python3",
      "display_name": "Python 3"
    },
    "language_info": {
      "name": "python"
    }
  },
  "cells": [
    {
      "cell_type": "code",
      "execution_count": null,
      "metadata": {
        "id": "CFngoR46dIwB"
      },
      "outputs": [],
      "source": [
        "import json\n",
        "import os\n",
        "import time\n",
        "\n",
        "valor_unico = time.time()\n",
        "\n",
        "# Función para convertir los datos de entrada a la estructura deseada\n",
        "def convert_data(input_data, valor_unico):\n",
        "    # Extraer puntos de strokePoints\n",
        "    points = input_data[\"strokePoints\"]\n",
        "\n",
        "    # Crear la estructura de valores\n",
        "    values = [[point[\"x\"], point[\"y\"], 0] for point in points]\n",
        "\n",
        "    # Construir el JSON de salida\n",
        "    output_data = {\n",
        "        \"protected\": {\n",
        "            \"ver\": \"v1\",\n",
        "            \"alg\": \"HS256\",\n",
        "            \"iat\": valor_unico\n",
        "        },\n",
        "        \"signature\": \"5e873f682c0d362749d6e36e59c2acd82ca82aa89fd6c0d1e076d2e69e9ccf3c\",\n",
        "        \"payload\": {\n",
        "            \"device_name\": \"computer_m0l8pz7k\",\n",
        "            \"device_type\": \"MOBILE_CLIENT\",\n",
        "            \"interval_ms\": 16,\n",
        "            \"sensors\": [\n",
        "                {\"name\": \"x\", \"units\": \"unit\"},\n",
        "                {\"name\": \"y\", \"units\": \"unit\"}\n",
        "            ],\n",
        "            \"values\": values\n",
        "        }\n",
        "    }\n",
        "\n",
        "    return output_data\n",
        "\n",
        "# Ruta del archivo JSON de entrada\n",
        "input_file_path = '/content/Numero_3.json'\n",
        "# Directorio para guardar los archivos JSON separados\n",
        "output_directory = '/content/Nuevos_Datos_v3'\n",
        "\n",
        "# Crear el directorio si no existe\n",
        "os.makedirs(output_directory, exist_ok=True)\n",
        "\n",
        "# Leer el archivo JSON de entrada\n",
        "with open(input_file_path, 'r') as infile:\n",
        "    input_data = json.load(infile)\n",
        "\n",
        "# Iterar sobre cada trazo en el JSON\n",
        "for stroke in input_data[\"strokes\"]:\n",
        "    index = stroke[\"index\"]\n",
        "    stroke_data = {\n",
        "        \"strokePoints\": stroke[\"strokePoints\"]\n",
        "    }\n",
        "\n",
        "    # Convertir los datos para el índice actual\n",
        "    converted_data = convert_data(stroke_data, valor_unico)\n",
        "\n",
        "    # Crear el nombre del archivo para el índice\n",
        "    output_file_path = os.path.join(output_directory, f'Numero_3_{index}.json')\n",
        "\n",
        "    # Escribir el JSON convertido en un nuevo archivo\n",
        "    with open(output_file_path, 'w') as outfile:\n",
        "        json.dump(converted_data, outfile, indent=4)\n",
        "\n",
        "    print(f\"Datos del índice {index} guardados en '{output_file_path}'\")\n"
      ]
    }
  ]
}